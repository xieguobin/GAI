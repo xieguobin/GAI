{
 "cells": [
  {
   "cell_type": "code",
   "execution_count": 1,
   "metadata": {
    "collapsed": false
   },
   "outputs": [
    {
     "name": "stdout",
     "output_type": "stream",
     "text": [
      "(699, 11)\n",
      "(683, 11)\n",
      "       Sample code number  Clump Thickness  Uniformity of Cell Size  \\\n",
      "count        6.830000e+02       683.000000               683.000000   \n",
      "mean         1.076720e+06         4.442167                 3.150805   \n",
      "std          6.206440e+05         2.820761                 3.065145   \n",
      "min          6.337500e+04         1.000000                 1.000000   \n",
      "25%          8.776170e+05         2.000000                 1.000000   \n",
      "50%          1.171795e+06         4.000000                 1.000000   \n",
      "75%          1.238705e+06         6.000000                 5.000000   \n",
      "max          1.345435e+07        10.000000                10.000000   \n",
      "\n",
      "       Uniformity of Cell Shape  Marginal Adhesion  \\\n",
      "count                683.000000         683.000000   \n",
      "mean                   3.215227           2.830161   \n",
      "std                    2.988581           2.864562   \n",
      "min                    1.000000           1.000000   \n",
      "25%                    1.000000           1.000000   \n",
      "50%                    1.000000           1.000000   \n",
      "75%                    5.000000           4.000000   \n",
      "max                   10.000000          10.000000   \n",
      "\n",
      "       Single Epithelial Cell Size  Bland Chromatin  Normal Nucleoli  \\\n",
      "count                   683.000000       683.000000       683.000000   \n",
      "mean                      3.234261         3.445095         2.869693   \n",
      "std                       2.223085         2.449697         3.052666   \n",
      "min                       1.000000         1.000000         1.000000   \n",
      "25%                       2.000000         2.000000         1.000000   \n",
      "50%                       2.000000         3.000000         1.000000   \n",
      "75%                       4.000000         5.000000         4.000000   \n",
      "max                      10.000000        10.000000        10.000000   \n",
      "\n",
      "          Mitoses       Class  \n",
      "count  683.000000  683.000000  \n",
      "mean     1.603221    2.699854  \n",
      "std      1.732674    0.954592  \n",
      "min      1.000000    2.000000  \n",
      "25%      1.000000    2.000000  \n",
      "50%      1.000000    2.000000  \n",
      "75%      1.000000    4.000000  \n",
      "max     10.000000    4.000000  \n"
     ]
    },
    {
     "data": {
      "text/html": [
       "<div>\n",
       "<style>\n",
       "    .dataframe thead tr:only-child th {\n",
       "        text-align: right;\n",
       "    }\n",
       "\n",
       "    .dataframe thead th {\n",
       "        text-align: left;\n",
       "    }\n",
       "\n",
       "    .dataframe tbody tr th {\n",
       "        vertical-align: top;\n",
       "    }\n",
       "</style>\n",
       "<table border=\"1\" class=\"dataframe\">\n",
       "  <thead>\n",
       "    <tr style=\"text-align: right;\">\n",
       "      <th></th>\n",
       "      <th>Sample code number</th>\n",
       "      <th>Clump Thickness</th>\n",
       "      <th>Uniformity of Cell Size</th>\n",
       "      <th>Uniformity of Cell Shape</th>\n",
       "      <th>Marginal Adhesion</th>\n",
       "      <th>Single Epithelial Cell Size</th>\n",
       "      <th>Bare Nuclei</th>\n",
       "      <th>Bland Chromatin</th>\n",
       "      <th>Normal Nucleoli</th>\n",
       "      <th>Mitoses</th>\n",
       "      <th>Class</th>\n",
       "    </tr>\n",
       "  </thead>\n",
       "  <tbody>\n",
       "    <tr>\n",
       "      <th>0</th>\n",
       "      <td>1000025</td>\n",
       "      <td>5</td>\n",
       "      <td>1</td>\n",
       "      <td>1</td>\n",
       "      <td>1</td>\n",
       "      <td>2</td>\n",
       "      <td>1</td>\n",
       "      <td>3</td>\n",
       "      <td>1</td>\n",
       "      <td>1</td>\n",
       "      <td>2</td>\n",
       "    </tr>\n",
       "    <tr>\n",
       "      <th>1</th>\n",
       "      <td>1002945</td>\n",
       "      <td>5</td>\n",
       "      <td>4</td>\n",
       "      <td>4</td>\n",
       "      <td>5</td>\n",
       "      <td>7</td>\n",
       "      <td>10</td>\n",
       "      <td>3</td>\n",
       "      <td>2</td>\n",
       "      <td>1</td>\n",
       "      <td>2</td>\n",
       "    </tr>\n",
       "    <tr>\n",
       "      <th>2</th>\n",
       "      <td>1015425</td>\n",
       "      <td>3</td>\n",
       "      <td>1</td>\n",
       "      <td>1</td>\n",
       "      <td>1</td>\n",
       "      <td>2</td>\n",
       "      <td>2</td>\n",
       "      <td>3</td>\n",
       "      <td>1</td>\n",
       "      <td>1</td>\n",
       "      <td>2</td>\n",
       "    </tr>\n",
       "  </tbody>\n",
       "</table>\n",
       "</div>"
      ],
      "text/plain": [
       "   Sample code number  Clump Thickness  Uniformity of Cell Size  \\\n",
       "0             1000025                5                        1   \n",
       "1             1002945                5                        4   \n",
       "2             1015425                3                        1   \n",
       "\n",
       "   Uniformity of Cell Shape  Marginal Adhesion  Single Epithelial Cell Size  \\\n",
       "0                         1                  1                            2   \n",
       "1                         4                  5                            7   \n",
       "2                         1                  1                            2   \n",
       "\n",
       "  Bare Nuclei  Bland Chromatin  Normal Nucleoli  Mitoses  Class  \n",
       "0           1                3                1        1      2  \n",
       "1          10                3                2        1      2  \n",
       "2           2                3                1        1      2  "
      ]
     },
     "execution_count": 1,
     "metadata": {},
     "output_type": "execute_result"
    }
   ],
   "source": [
    "# Logit回归和SGD算法\n",
    "# 导入pandas与numpy工具包。\n",
    "import pandas as pd\n",
    "import numpy as np\n",
    "\n",
    "# 创建特征列表。\n",
    "column_names = ['Sample code number', 'Clump Thickness', 'Uniformity of Cell Size', 'Uniformity of Cell Shape', 'Marginal Adhesion', 'Single Epithelial Cell Size', 'Bare Nuclei', 'Bland Chromatin', 'Normal Nucleoli', 'Mitoses', 'Class']\n",
    "\n",
    "# 使用pandas.read_csv函数从互联网读取指定数据。\n",
    "data = pd.read_csv('https://archive.ics.uci.edu/ml/machine-learning-databases/breast-cancer-wisconsin/breast-cancer-wisconsin.data', names = column_names )\n",
    "\n",
    "# 将?替换为标准缺失值表示。\n",
    "data = data.replace(to_replace='?', value=np.nan)\n",
    "# 丢弃带有缺失值的数据（只要有一个维度有缺失）。\n",
    "print(data.shape)\n",
    "data = data.dropna(how='any')\n",
    "\n",
    "# 输出data的数据量和维度。\n",
    "print(data.shape)\n",
    "print(data.describe())\n",
    "data[:3]"
   ]
  },
  {
   "cell_type": "code",
   "execution_count": 2,
   "metadata": {
    "collapsed": false
   },
   "outputs": [
    {
     "name": "stdout",
     "output_type": "stream",
     "text": [
      "0.18.1\n"
     ]
    }
   ],
   "source": [
    "import sklearn\n",
    "print(sklearn.__version__)\n",
    "# 使用sklearn.cross_valiation里的train_test_split模块用于分割数据。\n",
    "from sklearn.model_selection import train_test_split\n",
    "\n",
    "# 随机采样25%的数据用于测试，剩下的75%用于构建训练集合。\n",
    "X_train, X_test, y_train, y_test = train_test_split(data[column_names[1:10]], data[column_names[10]], test_size=0.25, random_state=33)"
   ]
  },
  {
   "cell_type": "code",
   "execution_count": 3,
   "metadata": {
    "collapsed": false
   },
   "outputs": [
    {
     "data": {
      "text/plain": [
       "2    344\n",
       "4    168\n",
       "Name: Class, dtype: int64"
      ]
     },
     "execution_count": 3,
     "metadata": {},
     "output_type": "execute_result"
    }
   ],
   "source": [
    "# 查验训练样本的数量和类别分布。\n",
    "y_train.value_counts()"
   ]
  },
  {
   "cell_type": "code",
   "execution_count": 4,
   "metadata": {
    "collapsed": false
   },
   "outputs": [
    {
     "data": {
      "text/plain": [
       "2    100\n",
       "4     71\n",
       "Name: Class, dtype: int64"
      ]
     },
     "execution_count": 4,
     "metadata": {},
     "output_type": "execute_result"
    }
   ],
   "source": [
    "# 查验测试样本的数量和类别分布。\n",
    "y_test.value_counts()"
   ]
  },
  {
   "cell_type": "code",
   "execution_count": 5,
   "metadata": {
    "collapsed": true
   },
   "outputs": [],
   "source": [
    "# 从sklearn.preprocessing里导入StandardScaler。\n",
    "from sklearn.preprocessing import StandardScaler\n",
    "# 从sklearn.linear_model里导入LogisticRegression与SGDClassifier。\n",
    "from sklearn.linear_model import LogisticRegression\n",
    "from sklearn.linear_model import SGDClassifier\n",
    "\n",
    "# 标准化数据，保证每个维度的特征数据方差为1，均值为0。使得预测结果不会被某些维度过大的特征值而主导。\n",
    "ss = StandardScaler()\n",
    "X_train = ss.fit_transform(X_train)\n",
    "X_test = ss.transform(X_test)"
   ]
  },
  {
   "cell_type": "code",
   "execution_count": 6,
   "metadata": {
    "collapsed": false
   },
   "outputs": [
    {
     "name": "stdout",
     "output_type": "stream",
     "text": [
      "[('LogitReg', LogisticRegression(C=1.0, class_weight=None, dual=False, fit_intercept=True,\n",
      "          intercept_scaling=1, max_iter=100, multi_class='ovr', n_jobs=1,\n",
      "          penalty='l2', random_state=None, solver='liblinear', tol=0.0001,\n",
      "          verbose=0, warm_start=False)), ('SGDC', SGDClassifier(alpha=0.0001, average=False, class_weight=None, epsilon=0.1,\n",
      "       eta0=0.0, fit_intercept=True, l1_ratio=0.15,\n",
      "       learning_rate='optimal', loss='hinge', n_iter=5, n_jobs=1,\n",
      "       penalty='l2', power_t=0.5, random_state=None, shuffle=True,\n",
      "       verbose=0, warm_start=False))]\n"
     ]
    }
   ],
   "source": [
    "# 初始化LogisticRegression与SGDClassifier。\n",
    "lr = LogisticRegression()\n",
    "sgdc = SGDClassifier()\n",
    "\n",
    "# 调用LogisticRegression中的fit函数/模块用来训练模型参数。\n",
    "lr.fit(X_train, y_train)\n",
    "# 使用训练好的模型lr对X_test进行预测，结果储存在变量lr_y_predict中。\n",
    "lr_y_predict = lr.predict(X_test)\n",
    "\n",
    "# 调用SGDClassifier中的fit函数/模块用来训练模型参数。\n",
    "sgdc.fit(X_train, y_train)\n",
    "# 使用训练好的模型sgdc对X_test进行预测，结果储存在变量sgdc_y_predict中。\n",
    "sgdc_y_predict = sgdc.predict(X_test)\n",
    "\n",
    "estimators = []\n",
    "estimators.append(('LogitReg',  lr))\n",
    "estimators.append(('SGDC'      ,  sgdc))\n",
    "print(estimators)   # 各个模型的参数"
   ]
  },
  {
   "cell_type": "code",
   "execution_count": 7,
   "metadata": {
    "collapsed": false
   },
   "outputs": [
    {
     "name": "stdout",
     "output_type": "stream",
     "text": [
      "[('LogitReg', LogisticRegression(C=1.0, class_weight=None, dual=False, fit_intercept=True,\n",
      "          intercept_scaling=1, max_iter=100, multi_class='ovr', n_jobs=1,\n",
      "          penalty='l2', random_state=None, solver='liblinear', tol=0.0001,\n",
      "          verbose=0, warm_start=False)), ('SGDC', SGDClassifier(alpha=0.0001, average=False, class_weight=None, epsilon=0.1,\n",
      "       eta0=0.0, fit_intercept=True, l1_ratio=0.15,\n",
      "       learning_rate='optimal', loss='hinge', n_iter=5, n_jobs=1,\n",
      "       penalty='l2', power_t=0.5, random_state=None, shuffle=True,\n",
      "       verbose=0, warm_start=False))]\n"
     ]
    }
   ],
   "source": [
    "lr   = LogisticRegression(C=1.0, class_weight=None, dual=False, fit_intercept=True,\n",
    "          intercept_scaling=1, max_iter=100, multi_class='ovr', n_jobs=1,\n",
    "          penalty='l2', random_state=None, solver='liblinear', tol=0.0001,\n",
    "          verbose=0, warm_start=False)\n",
    "sgdc = SGDClassifier(alpha=0.0001, average=False, class_weight=None, epsilon=0.1,\n",
    "       eta0=0.0, fit_intercept=True, l1_ratio=0.15,\n",
    "       learning_rate='optimal', loss='hinge', n_iter=5, n_jobs=1,\n",
    "       penalty='l2', power_t=0.5, random_state=None, shuffle=True,\n",
    "       verbose=0, warm_start=False)  \n",
    "\n",
    "estimators = []\n",
    "estimators.append(('LogitReg',  lr))\n",
    "estimators.append(('SGDC'      ,  sgdc))\n",
    "print(estimators)   # 各个模型的参数"
   ]
  },
  {
   "cell_type": "code",
   "execution_count": 15,
   "metadata": {
    "collapsed": false,
    "scrolled": true
   },
   "outputs": [
    {
     "name": "stdout",
     "output_type": "stream",
     "text": [
      "Accuracy of LR Classifier: 0.988304093567\n",
      "             precision    recall  f1-score   support\n",
      "\n",
      "     Benign       0.99      0.99      0.99       100\n",
      "  Malignant       0.99      0.99      0.99        71\n",
      "\n",
      "avg / total       0.99      0.99      0.99       171\n",
      "\n"
     ]
    }
   ],
   "source": [
    "# 从sklearn.metrics里导入classification_report模块。\n",
    "from sklearn.metrics import classification_report\n",
    "# 调用LogisticRegression中的fit函数/模块用来训练模型参数。\n",
    "lr.fit(X_train, y_train)\n",
    "# 使用训练好的模型lr对X_test进行预测，结果储存在变量lr_y_predict中。\n",
    "lr_y_predict = lr.predict(X_test)\n",
    "\n",
    "# 使用逻辑斯蒂回归模型自带的评分函数score获得模型在测试集上的准确性结果。\n",
    "print ('Accuracy of LR Classifier:', lr.score(X_test, y_test))\n",
    "# 利用classification_report模块获得LogisticRegression其他三个指标的结果。\n",
    "print (classification_report(y_test, lr_y_predict, target_names=['Benign', 'Malignant']))"
   ]
  },
  {
   "cell_type": "code",
   "execution_count": 16,
   "metadata": {
    "collapsed": false
   },
   "outputs": [
    {
     "name": "stdout",
     "output_type": "stream",
     "text": [
      "Accuarcy of SGD Classifier: 0.988304093567\n",
      "             precision    recall  f1-score   support\n",
      "\n",
      "     Benign       1.00      0.98      0.99       100\n",
      "  Malignant       0.97      1.00      0.99        71\n",
      "\n",
      "avg / total       0.99      0.99      0.99       171\n",
      "\n"
     ]
    }
   ],
   "source": [
    "# 调用SGDClassifier中的fit函数/模块用来训练模型参数。\n",
    "sgdc.fit(X_train, y_train)\n",
    "# 使用训练好的模型sgdc对X_test进行预测，结果储存在变量sgdc_y_predict中。\n",
    "sgdc_y_predict = sgdc.predict(X_test)\n",
    "\n",
    "# 使用随机梯度下降模型自带的评分函数score获得模型在测试集上的准确性结果。\n",
    "print ('Accuarcy of SGD Classifier:', sgdc.score(X_test, y_test))\n",
    "# 利用classification_report模块获得SGDClassifier其他三个指标的结果。\n",
    "print (classification_report(y_test, sgdc_y_predict, target_names=['Benign', 'Malignant']))"
   ]
  },
  {
   "cell_type": "code",
   "execution_count": 11,
   "metadata": {
    "collapsed": true
   },
   "outputs": [],
   "source": [
    "# 调参实验1"
   ]
  },
  {
   "cell_type": "code",
   "execution_count": 12,
   "metadata": {
    "collapsed": false
   },
   "outputs": [
    {
     "name": "stdout",
     "output_type": "stream",
     "text": [
      "[('LogitReg', LogisticRegression(C=1.0, class_weight=None, dual=False, fit_intercept=True,\n",
      "          intercept_scaling=1, max_iter=100, multi_class='ovr', n_jobs=1,\n",
      "          penalty='l2', random_state=None, solver='liblinear', tol=0.0001,\n",
      "          verbose=0, warm_start=False)), ('SGDC', SGDClassifier(alpha=0.0001, average=False, class_weight=None, epsilon=0.1,\n",
      "       eta0=0.0, fit_intercept=True, l1_ratio=0.15,\n",
      "       learning_rate='optimal', loss='hinge', n_iter=5, n_jobs=1,\n",
      "       penalty='l2', power_t=0.5, random_state=None, shuffle=True,\n",
      "       verbose=0, warm_start=False))]\n",
      "Accuracy of LR Classifier: 0.988304093567\n",
      "             precision    recall  f1-score   support\n",
      "\n",
      "     Benign       0.99      0.99      0.99       100\n",
      "  Malignant       0.99      0.99      0.99        71\n",
      "\n",
      "avg / total       0.99      0.99      0.99       171\n",
      "\n",
      "Accuarcy of SGD Classifier: 0.994152046784\n",
      "             precision    recall  f1-score   support\n",
      "\n",
      "     Benign       1.00      0.99      0.99       100\n",
      "  Malignant       0.99      1.00      0.99        71\n",
      "\n",
      "avg / total       0.99      0.99      0.99       171\n",
      "\n"
     ]
    }
   ],
   "source": [
    "# 初始化LogisticRegression与SGDClassifier。\n",
    "lr   = LogisticRegression(C=1.0, class_weight=None, dual=False, fit_intercept=True,\n",
    "          intercept_scaling=1, max_iter=100, multi_class='ovr', n_jobs=1,\n",
    "          penalty='l2', random_state=None, solver='liblinear', tol=0.0001,\n",
    "          verbose=0, warm_start=False)\n",
    "sgdc = SGDClassifier(alpha=0.0001, average=False, class_weight=None, epsilon=0.1,\n",
    "       eta0=0.0, fit_intercept=True, l1_ratio=0.15,\n",
    "       learning_rate='optimal', loss='hinge', n_iter=5, n_jobs=1,\n",
    "       penalty='l2', power_t=0.5, random_state=None, shuffle=True,\n",
    "       verbose=0, warm_start=False)  \n",
    "\n",
    "# 调用LogisticRegression中的fit函数/模块用来训练模型参数。\n",
    "lr.fit(X_train, y_train)\n",
    "# 使用训练好的模型lr对X_test进行预测，结果储存在变量lr_y_predict中。\n",
    "lr_y_predict = lr.predict(X_test)\n",
    "\n",
    "# 调用SGDClassifier中的fit函数/模块用来训练模型参数。\n",
    "sgdc.fit(X_train, y_train)\n",
    "# 使用训练好的模型sgdc对X_test进行预测，结果储存在变量sgdc_y_predict中。\n",
    "sgdc_y_predict = sgdc.predict(X_test)\n",
    "\n",
    "estimators = []\n",
    "estimators.append(('LogitReg',  lr))\n",
    "estimators.append(('SGDC'      ,  sgdc))\n",
    "print(estimators)   # 各个模型的参数\n",
    "\n",
    "# 从sklearn.metrics里导入classification_report模块。\n",
    "from sklearn.metrics import classification_report\n",
    "# 使用逻辑斯蒂回归模型自带的评分函数score获得模型在测试集上的准确性结果。\n",
    "print ('Accuracy of LR Classifier:', lr.score(X_test, y_test))\n",
    "# 利用classification_report模块获得LogisticRegression其他三个指标的结果。\n",
    "print (classification_report(y_test, lr_y_predict, target_names=['Benign', 'Malignant']))\n",
    "\n",
    "# 使用随机梯度下降模型自带的评分函数score获得模型在测试集上的准确性结果。\n",
    "print ('Accuarcy of SGD Classifier:', sgdc.score(X_test, y_test))\n",
    "# 利用classification_report模块获得SGDClassifier其他三个指标的结果。\n",
    "print (classification_report(y_test, sgdc_y_predict, target_names=['Benign', 'Malignant']))"
   ]
  },
  {
   "cell_type": "code",
   "execution_count": 17,
   "metadata": {
    "collapsed": false
   },
   "outputs": [
    {
     "name": "stdout",
     "output_type": "stream",
     "text": [
      "Accuracy of LR Classifier: 98.83%\n",
      "             precision    recall  f1-score   support\n",
      "\n",
      "     Benign       0.99      0.99      0.99       100\n",
      "  Malignant       0.99      0.99      0.99        71\n",
      "\n",
      "avg / total       0.99      0.99      0.99       171\n",
      "\n"
     ]
    }
   ],
   "source": [
    "# 初始化LogisticRegression。\n",
    "lr   = LogisticRegression(C=1.0, class_weight=None, dual=False, fit_intercept=True,\n",
    "          intercept_scaling=1, max_iter=100, multi_class='ovr', n_jobs=1,\n",
    "          penalty='l2', random_state=None, solver='liblinear', tol=0.0001,\n",
    "          verbose=0, warm_start=False)\n",
    "# 调用LogisticRegression中的fit函数/模块用来训练模型参数。\n",
    "lr.fit(X_train, y_train)\n",
    "# 使用训练好的模型lr对X_test进行预测，结果储存在变量lr_y_predict中。\n",
    "lr_y_predict = lr.predict(X_test)\n",
    "\n",
    "# 从sklearn.metrics里导入classification_report模块。\n",
    "from sklearn.metrics import classification_report\n",
    "# 使用逻辑斯蒂回归模型自带的评分函数score获得模型在测试集上的准确性结果。\n",
    "print ('Accuracy of LR Classifier:', \"%.2f%%\"%(lr.score(X_test, y_test)*100))\n",
    "# 利用classification_report模块获得LogisticRegression其他三个指标的结果。\n",
    "print (classification_report(y_test, lr_y_predict, target_names=['Benign', 'Malignant']))"
   ]
  },
  {
   "cell_type": "code",
   "execution_count": 20,
   "metadata": {
    "collapsed": false
   },
   "outputs": [
    {
     "name": "stdout",
     "output_type": "stream",
     "text": [
      "Accuarcy of SGD Classifier: 0.95%\n",
      "             precision    recall  f1-score   support\n",
      "\n",
      "     Benign       0.93      0.99      0.96       100\n",
      "  Malignant       0.98      0.90      0.94        71\n",
      "\n",
      "avg / total       0.95      0.95      0.95       171\n",
      "\n"
     ]
    }
   ],
   "source": [
    "# 初始化SGDClassifier。\n",
    "sgdc = SGDClassifier(alpha=0.0001, average=False, class_weight=None, epsilon=0.1,\n",
    "       eta0=0.0, fit_intercept=True, l1_ratio=0.15,\n",
    "       learning_rate='optimal', loss='hinge', n_iter=5, n_jobs=1,\n",
    "       penalty='l2', power_t=0.5, random_state=None, shuffle=True,\n",
    "       verbose=0, warm_start=False)  \n",
    "# 调用SGDClassifier中的fit函数/模块用来训练模型参数。\n",
    "sgdc.fit(X_train, y_train)\n",
    "# 使用训练好的模型sgdc对X_test进行预测，结果储存在变量sgdc_y_predict中。\n",
    "sgdc_y_predict = sgdc.predict(X_test)\n",
    "\n",
    "# 使用随机梯度下降模型自带的评分函数score获得模型在测试集上的准确性结果。\n",
    "print ('Accuarcy of SGD Classifier:', \"%.2f%%\"%(sgdc.score(X_test, y_test)))\n",
    "# 利用classification_report模块获得SGDClassifier其他三个指标的结果。\n",
    "print (classification_report(y_test, sgdc_y_predict, target_names=['Benign', 'Malignant']))"
   ]
  },
  {
   "cell_type": "code",
   "execution_count": null,
   "metadata": {
    "collapsed": true
   },
   "outputs": [],
   "source": [
    ""
   ]
  }
 ],
 "metadata": {
  "anaconda-cloud": {},
  "kernelspec": {
   "display_name": "Python [conda root]",
   "language": "python",
   "name": "conda-root-py"
  },
  "language_info": {
   "codemirror_mode": {
    "name": "ipython",
    "version": 3.0
   },
   "file_extension": ".py",
   "mimetype": "text/x-python",
   "name": "python",
   "nbconvert_exporter": "python",
   "pygments_lexer": "ipython3",
   "version": "3.5.2"
  }
 },
 "nbformat": 4,
 "nbformat_minor": 0
}